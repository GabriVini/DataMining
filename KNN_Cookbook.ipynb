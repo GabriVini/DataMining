{
  "nbformat": 4,
  "nbformat_minor": 0,
  "metadata": {
    "colab": {
      "name": "KNN_Cookbook.ipynb",
      "provenance": [],
      "authorship_tag": "ABX9TyMvr5W+N/exJ4JMEwSLGTV3",
      "include_colab_link": true
    },
    "kernelspec": {
      "name": "python3",
      "display_name": "Python 3"
    }
  },
  "cells": [
    {
      "cell_type": "markdown",
      "metadata": {
        "id": "view-in-github",
        "colab_type": "text"
      },
      "source": [
        "<a href=\"https://colab.research.google.com/github/GabriVini/DataMining/blob/main/KNN_Cookbook.ipynb\" target=\"_parent\"><img src=\"https://colab.research.google.com/assets/colab-badge.svg\" alt=\"Open In Colab\"/></a>"
      ]
    },
    {
      "cell_type": "markdown",
      "metadata": {
        "id": "mjSQx57Veszf"
      },
      "source": [
        "**KNN**\n",
        "\n",
        "Problem\n",
        "\n",
        "You need to find an observation’s k nearest observations (neighbors)"
      ]
    },
    {
      "cell_type": "code",
      "metadata": {
        "colab": {
          "base_uri": "https://localhost:8080/"
        },
        "id": "IuKhjeBYVGFf",
        "outputId": "b27562d7-dc1c-426b-d966-be174fc9592c"
      },
      "source": [
        "# Load libraries\n",
        "from sklearn import datasets\n",
        "from sklearn.neighbors import NearestNeighbors\n",
        "from sklearn.preprocessing import StandardScaler\n",
        "# Load data\n",
        "iris = datasets.load_iris()\n",
        "features = iris.data\n",
        "\n",
        "# Create standardizer\n",
        "standardizer = StandardScaler()\n",
        "# Standardize features\n",
        "features_standardized = standardizer.fit_transform(features)\n",
        "# Two nearest neighbors\n",
        "nearest_neighbors = NearestNeighbors(n_neighbors=2).fit(features_standardized)\n",
        "# Create an observation\n",
        "new_observation = [ 1, 1, 1, 1]\n",
        "# Find distances and indices of the observation's nearest neighbors\n",
        "distances, indices = nearest_neighbors.kneighbors([new_observation])\n",
        "\n",
        "\n",
        "# View the nearest neighbors\n",
        "features_standardized[indices]\n"
      ],
      "execution_count": 7,
      "outputs": [
        {
          "output_type": "execute_result",
          "data": {
            "text/plain": [
              "array([[[1.03800476, 0.55861082, 1.10378283, 1.18556721],\n",
              "        [0.79566902, 0.32841405, 0.76275827, 1.05393502]]])"
            ]
          },
          "metadata": {
            "tags": []
          },
          "execution_count": 7
        }
      ]
    },
    {
      "cell_type": "code",
      "metadata": {
        "id": "qkhtrmi7Xt1R"
      },
      "source": [
        "# Find two nearest neighbors based on euclidean distance\n",
        "nearestneighbors_euclidean = NearestNeighbors(\n",
        "n_neighbors=2, metric='euclidean').fit(features_standardized)"
      ],
      "execution_count": null,
      "outputs": []
    },
    {
      "cell_type": "code",
      "metadata": {
        "colab": {
          "base_uri": "https://localhost:8080/"
        },
        "id": "7lYVLqUlYBxI",
        "outputId": "ef8386e4-7ed3-4d35-ec0f-d0abf0b33bee"
      },
      "source": [
        "# View distances\n",
        "distances"
      ],
      "execution_count": null,
      "outputs": [
        {
          "output_type": "execute_result",
          "data": {
            "text/plain": [
              "array([[0.49140089, 0.74294782]])"
            ]
          },
          "metadata": {
            "tags": []
          },
          "execution_count": 21
        }
      ]
    },
    {
      "cell_type": "code",
      "metadata": {
        "colab": {
          "base_uri": "https://localhost:8080/"
        },
        "id": "vLeyBY_nYFnU",
        "outputId": "ac409989-6173-478b-d3fc-c7f50a8e0519"
      },
      "source": [
        "# Find each observation's three nearest neighbors\n",
        "# based on euclidean distance (including itself)\n",
        "nearestneighbors_euclidean = NearestNeighbors(n_neighbors=3, metric=\"euclidean\").fit(features_standardized)\n",
        "# List of lists indicating each observation's 3 nearest neighbors\n",
        "# (including itself)\n",
        "nearest_neighbors_with_self = nearestneighbors_euclidean.kneighbors_graph(features_standardized).toarray()\n",
        "# Remove 1's marking an observation is a nearest neighbor to itself\n",
        "for i, x in enumerate(nearest_neighbors_with_self):\n",
        "  x[i] = 0\n",
        "# View first observation's two nearest neighbors\n",
        "nearest_neighbors_with_self[0]\n",
        "print(nearest_neighbors_with_self[2])\n"
      ],
      "execution_count": null,
      "outputs": [
        {
          "output_type": "stream",
          "text": [
            "[0. 0. 0. 0. 0. 0. 0. 0. 0. 0. 0. 0. 0. 0. 0. 0. 0. 0. 0. 0. 0. 0. 0. 0.\n",
            " 0. 0. 0. 0. 0. 1. 0. 0. 0. 0. 0. 0. 0. 0. 0. 0. 0. 0. 0. 0. 0. 0. 0. 1.\n",
            " 0. 0. 0. 0. 0. 0. 0. 0. 0. 0. 0. 0. 0. 0. 0. 0. 0. 0. 0. 0. 0. 0. 0. 0.\n",
            " 0. 0. 0. 0. 0. 0. 0. 0. 0. 0. 0. 0. 0. 0. 0. 0. 0. 0. 0. 0. 0. 0. 0. 0.\n",
            " 0. 0. 0. 0. 0. 0. 0. 0. 0. 0. 0. 0. 0. 0. 0. 0. 0. 0. 0. 0. 0. 0. 0. 0.\n",
            " 0. 0. 0. 0. 0. 0. 0. 0. 0. 0. 0. 0. 0. 0. 0. 0. 0. 0. 0. 0. 0. 0. 0. 0.\n",
            " 0. 0. 0. 0. 0. 0.]\n"
          ],
          "name": "stdout"
        }
      ]
    },
    {
      "cell_type": "markdown",
      "metadata": {
        "id": "biOvud96edpY"
      },
      "source": [
        "**KNN Classifier**\n",
        "\n",
        "Problem\n",
        "\n",
        "Given an observation of unknown class, you need to predict its class based on the class\n",
        "of its neighbors."
      ]
    },
    {
      "cell_type": "code",
      "metadata": {
        "colab": {
          "base_uri": "https://localhost:8080/"
        },
        "id": "c1XP1VXUYhIt",
        "outputId": "7550b7b0-db1c-4461-d19b-573b36a5101a"
      },
      "source": [
        "# Load libraries\n",
        "from sklearn.neighbors import KNeighborsClassifier\n",
        "from sklearn.preprocessing import StandardScaler\n",
        "from sklearn import datasets\n",
        "# Load data\n",
        "iris = datasets.load_iris()\n",
        "X = iris.data\n",
        "y = iris.target\n",
        "# Create standardizer\n",
        "standardizer = StandardScaler()\n",
        "# Standardize features\n",
        "X_std = standardizer.fit_transform(X)\n",
        "# Train a KNN classifier with 5 neighbors\n",
        "knn = KNeighborsClassifier(n_neighbors=5, n_jobs=-1).fit(X_std, y)\n",
        "# Create two observations\n",
        "new_observations = [[ 0.75, 0.75, 0.75, 0.75],\n",
        "[ 1, 1, 1, 1]]\n",
        "# Predict the class of two observations\n",
        "knn.predict(new_observations)\n"
      ],
      "execution_count": null,
      "outputs": [
        {
          "output_type": "execute_result",
          "data": {
            "text/plain": [
              "array([1, 2])"
            ]
          },
          "metadata": {
            "tags": []
          },
          "execution_count": 23
        }
      ]
    },
    {
      "cell_type": "code",
      "metadata": {
        "colab": {
          "base_uri": "https://localhost:8080/"
        },
        "id": "foyjPTxiYsxB",
        "outputId": "f9c6836b-c59b-4319-a31a-c57ee7f40d54"
      },
      "source": [
        "# View probability each observation is one of three classes\n",
        "knn.predict_proba(new_observations)"
      ],
      "execution_count": null,
      "outputs": [
        {
          "output_type": "execute_result",
          "data": {
            "text/plain": [
              "array([[0. , 0.6, 0.4],\n",
              "       [0. , 0. , 1. ]])"
            ]
          },
          "metadata": {
            "tags": []
          },
          "execution_count": 24
        }
      ]
    },
    {
      "cell_type": "code",
      "metadata": {
        "colab": {
          "base_uri": "https://localhost:8080/"
        },
        "id": "7sBUoc8nYv4V",
        "outputId": "286d4137-90d0-441b-8f54-4ccff27f33ca"
      },
      "source": [
        "knn.predict(new_observations)"
      ],
      "execution_count": null,
      "outputs": [
        {
          "output_type": "execute_result",
          "data": {
            "text/plain": [
              "array([1, 2])"
            ]
          },
          "metadata": {
            "tags": []
          },
          "execution_count": 25
        }
      ]
    },
    {
      "cell_type": "markdown",
      "metadata": {
        "id": "myuy-CRzePch"
      },
      "source": [
        "**Identifying the Best Neighborhood Size**\n",
        "\n",
        "Problem\n",
        "\n",
        "You want to select the best value for k in a k-nearest neighbors classifier"
      ]
    },
    {
      "cell_type": "code",
      "metadata": {
        "id": "WNRikFJ8Y345"
      },
      "source": [
        "# Load libraries\n",
        "from sklearn.neighbors import KNeighborsClassifier\n",
        "from sklearn import datasets\n",
        "from sklearn.preprocessing import StandardScaler\n",
        "from sklearn.pipeline import Pipeline, FeatureUnion\n",
        "from sklearn.model_selection import GridSearchCV\n",
        "# Load data\n",
        "iris = datasets.load_iris()\n",
        "features = iris.data\n",
        "target = iris.target\n",
        "# Create standardizer\n",
        "standardizer = StandardScaler()\n",
        "# Create a KNN classifier\n",
        "knn = KNeighborsClassifier(n_neighbors=5, n_jobs=-1)\n",
        "# Create a pipeline\n",
        "pipe = Pipeline([(\"standardizer\", standardizer), (\"knn\", knn)])\n",
        "# Create space of candidate values\n",
        "search_space = [{\"knn__n_neighbors\": [1, 2, 3, 4, 5, 6, 7, 8, 9, 10]}]\n",
        "# Create grid search\n",
        "classifier = GridSearchCV(\n",
        "pipe, search_space, cv=5, verbose=0).fit(features_standardized, target)"
      ],
      "execution_count": null,
      "outputs": []
    },
    {
      "cell_type": "code",
      "metadata": {
        "colab": {
          "base_uri": "https://localhost:8080/"
        },
        "id": "D1BdC0EdY-Um",
        "outputId": "1f5937ef-6f55-4114-a548-69cc728b9acb"
      },
      "source": [
        "# Best neighborhood size (k)\n",
        "classifier.best_estimator_.get_params()[\"knn__n_neighbors\"]\n"
      ],
      "execution_count": null,
      "outputs": [
        {
          "output_type": "execute_result",
          "data": {
            "text/plain": [
              "6"
            ]
          },
          "metadata": {
            "tags": []
          },
          "execution_count": 27
        }
      ]
    },
    {
      "cell_type": "markdown",
      "metadata": {
        "id": "D4-YhV-Adzb6"
      },
      "source": [
        "**RNN**\n",
        "\n",
        "Problem\n",
        "\n",
        "Given an observation of unknown class, you need to predict its class based on the class\n",
        "of all observations within a certain distance."
      ]
    },
    {
      "cell_type": "code",
      "metadata": {
        "colab": {
          "base_uri": "https://localhost:8080/"
        },
        "id": "ApZJUQccY_Yx",
        "outputId": "401fb80e-f0a5-435a-8f09-147f4c82f328"
      },
      "source": [
        "# Load libraries\n",
        "from sklearn.neighbors import RadiusNeighborsClassifier\n",
        "from sklearn.preprocessing import StandardScaler\n",
        "from sklearn import datasets\n",
        "# Load data\n",
        "iris = datasets.load_iris()\n",
        "features = iris.data\n",
        "target = iris.target\n",
        "# Create standardizer\n",
        "standardizer = StandardScaler()\n",
        "# Standardize features\n",
        "features_standardized = standardizer.fit_transform(features)\n",
        "# Train a radius neighbors classifier\n",
        "rnn = RadiusNeighborsClassifier(\n",
        "radius=.5, n_jobs=-1).fit(features_standardized, target)\n",
        "# Create two observations\n",
        "new_observations = [[ 1, 1, 1, 1]]\n",
        "# Predict the class of two observations\n",
        "rnn.predict(new_observations)\n"
      ],
      "execution_count": null,
      "outputs": [
        {
          "output_type": "execute_result",
          "data": {
            "text/plain": [
              "array([2])"
            ]
          },
          "metadata": {
            "tags": []
          },
          "execution_count": 28
        }
      ]
    }
  ]
}