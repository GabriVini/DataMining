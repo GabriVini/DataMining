{
  "nbformat": 4,
  "nbformat_minor": 0,
  "metadata": {
    "colab": {
      "name": "Fish_KNN.ipynb",
      "provenance": [],
      "authorship_tag": "ABX9TyP2vccR0syxDPYh61So5J42",
      "include_colab_link": true
    },
    "kernelspec": {
      "name": "python3",
      "display_name": "Python 3"
    }
  },
  "cells": [
    {
      "cell_type": "markdown",
      "metadata": {
        "id": "view-in-github",
        "colab_type": "text"
      },
      "source": [
        "<a href=\"https://colab.research.google.com/github/GabriVini/DataMining/blob/main/Fish_KNN.ipynb\" target=\"_parent\"><img src=\"https://colab.research.google.com/assets/colab-badge.svg\" alt=\"Open In Colab\"/></a>"
      ]
    },
    {
      "cell_type": "code",
      "metadata": {
        "colab": {
          "base_uri": "https://localhost:8080/"
        },
        "id": "qDVxedlFYlhJ",
        "outputId": "e2d6bb4a-6d8e-46b3-d648-e6b014ddd252"
      },
      "source": [
        "# Load libraries\r\n",
        "\r\n",
        "from sklearn.neighbors import NearestNeighbors\r\n",
        "from sklearn.preprocessing import StandardScaler\r\n",
        "\r\n",
        "import pandas as pd\r\n",
        "import numpy as np   \r\n",
        "\r\n",
        "# Load the dataset\r\n",
        "url = 'https://raw.githubusercontent.com/VitaT/ML-python/main/data/fish.csv'\r\n",
        "data = pd.read_csv(url)\r\n",
        "fish_y = np.array(data[\"Species\"])\r\n",
        "\r\n",
        "fish_x = data.drop(\"Species\", axis = 1)\r\n",
        "\r\n",
        "print(data)"
      ],
      "execution_count": null,
      "outputs": [
        {
          "output_type": "stream",
          "text": [
            "    Species  Weight  Length1  Length2  Length3   Height   Width\n",
            "0     Bream   242.0     23.2     25.4     30.0  11.5200  4.0200\n",
            "1     Bream   290.0     24.0     26.3     31.2  12.4800  4.3056\n",
            "2     Bream   340.0     23.9     26.5     31.1  12.3778  4.6961\n",
            "3     Bream   363.0     26.3     29.0     33.5  12.7300  4.4555\n",
            "4     Bream   430.0     26.5     29.0     34.0  12.4440  5.1340\n",
            "..      ...     ...      ...      ...      ...      ...     ...\n",
            "142   Smelt    12.2     11.5     12.2     13.4   2.0904  1.3936\n",
            "143   Smelt    13.4     11.7     12.4     13.5   2.4300  1.2690\n",
            "144   Smelt    12.2     12.1     13.0     13.8   2.2770  1.2558\n",
            "145   Smelt    19.7     13.2     14.3     15.2   2.8728  2.0672\n",
            "146   Smelt    19.9     13.8     15.0     16.2   2.9322  1.8792\n",
            "\n",
            "[147 rows x 7 columns]\n"
          ],
          "name": "stdout"
        }
      ]
    },
    {
      "cell_type": "code",
      "metadata": {
        "colab": {
          "base_uri": "https://localhost:8080/"
        },
        "id": "XqLWVRyRaWY7",
        "outputId": "820e36a4-487d-4d57-f071-07682671c3a8"
      },
      "source": [
        "# Create standardizer\r\n",
        "standardizer = StandardScaler()\r\n",
        "# Standardize features\r\n",
        "features_standardized = standardizer.fit_transform(fish_x)\r\n",
        "# Two nearest neighbors\r\n",
        "nearest_neighbors = NearestNeighbors(n_neighbors=2).fit(features_standardized)\r\n",
        "# Create an observation\r\n",
        "new_observation = [ 1, 1, 1, 1, 1, 1]\r\n",
        "# Find distances and indices of the observation's nearest neighbors\r\n",
        "distances, indices = nearest_neighbors.kneighbors([new_observation])\r\n",
        "\r\n",
        "\r\n",
        "# View the nearest neighbors\r\n",
        "features_standardized[indices]\r\n",
        "\r\n",
        "print(indices)\r\n",
        "\r\n",
        "print(features_standardized[indices])\r\n",
        "print(distances)"
      ],
      "execution_count": null,
      "outputs": [
        {
          "output_type": "stream",
          "text": [
            "[[113 108]]\n",
            "[[[1.14739821 1.0591973  1.05512355 0.95137206 0.5183887  1.29667328]\n",
            "  [0.6789653  0.99970093 0.9625357  0.85710927 0.51876863 0.92372589]]]\n",
            "[[0.59211343 0.60190204]]\n"
          ],
          "name": "stdout"
        }
      ]
    },
    {
      "cell_type": "code",
      "metadata": {
        "id": "BzjwvzguawEi"
      },
      "source": [
        "# Find two nearest neighbors based on euclidean distance\r\n",
        "nearestneighbors_euclidean = NearestNeighbors(\r\n",
        "n_neighbors=2, metric='euclidean').fit(features_standardized)"
      ],
      "execution_count": null,
      "outputs": []
    },
    {
      "cell_type": "code",
      "metadata": {
        "colab": {
          "base_uri": "https://localhost:8080/"
        },
        "id": "_YQI_91faw8I",
        "outputId": "843030db-32b3-4a9e-ca52-c8cd88cd62a2"
      },
      "source": [
        "# View distances\r\n",
        "distances"
      ],
      "execution_count": null,
      "outputs": [
        {
          "output_type": "execute_result",
          "data": {
            "text/plain": [
              "array([[0.59211343, 0.60190204]])"
            ]
          },
          "metadata": {
            "tags": []
          },
          "execution_count": 29
        }
      ]
    },
    {
      "cell_type": "code",
      "metadata": {
        "colab": {
          "base_uri": "https://localhost:8080/"
        },
        "id": "JFDZRtaDa3Ua",
        "outputId": "16547e3a-973f-419f-cde3-ce7fefbde58a"
      },
      "source": [
        "# Find each observation's three nearest neighbors\r\n",
        "# based on euclidean distance (including itself)\r\n",
        "nearestneighbors_euclidean = NearestNeighbors(n_neighbors=3, metric=\"euclidean\").fit(features_standardized)\r\n",
        "# List of lists indicating each observation's 3 nearest neighbors\r\n",
        "# (including itself)\r\n",
        "nearest_neighbors_with_self = nearestneighbors_euclidean.kneighbors_graph(features_standardized).toarray()\r\n",
        "# Remove 1's marking an observation is a nearest neighbor to itself\r\n",
        "for i, x in enumerate(nearest_neighbors_with_self):\r\n",
        "  x[i] = 0\r\n",
        "# View first observation's two nearest neighbors\r\n",
        "nearest_neighbors_with_self[0]\r\n",
        "print(nearest_neighbors_with_self[0])"
      ],
      "execution_count": null,
      "outputs": [
        {
          "output_type": "stream",
          "text": [
            "[0. 0. 0. 0. 0. 0. 0. 0. 0. 0. 0. 0. 0. 0. 0. 0. 0. 0. 0. 0. 0. 0. 0. 0.\n",
            " 0. 0. 0. 0. 0. 0. 0. 0. 0. 0. 0. 0. 0. 0. 0. 0. 0. 0. 0. 0. 0. 0. 0. 0.\n",
            " 0. 0. 0. 0. 0. 0. 0. 0. 0. 0. 0. 0. 0. 0. 0. 0. 1. 1. 0. 0. 0. 0. 0. 0.\n",
            " 0. 0. 0. 0. 0. 0. 0. 0. 0. 0. 0. 0. 0. 0. 0. 0. 0. 0. 0. 0. 0. 0. 0. 0.\n",
            " 0. 0. 0. 0. 0. 0. 0. 0. 0. 0. 0. 0. 0. 0. 0. 0. 0. 0. 0. 0. 0. 0. 0. 0.\n",
            " 0. 0. 0. 0. 0. 0. 0. 0. 0. 0. 0. 0. 0. 0. 0. 0. 0. 0. 0. 0. 0. 0. 0. 0.\n",
            " 0. 0. 0.]\n"
          ],
          "name": "stdout"
        }
      ]
    },
    {
      "cell_type": "code",
      "metadata": {
        "colab": {
          "base_uri": "https://localhost:8080/"
        },
        "id": "qmZZrsXMbDUV",
        "outputId": "69b269c1-0a0b-48f9-90d0-495d092315c7"
      },
      "source": [
        "# Load libraries\r\n",
        "from sklearn.neighbors import KNeighborsClassifier\r\n",
        "from sklearn.preprocessing import StandardScaler\r\n",
        "import pandas as pd\r\n",
        "import numpy as np \r\n",
        "\r\n",
        "# Load data\r\n",
        "url = 'https://raw.githubusercontent.com/VitaT/ML-python/main/data/fish.csv'\r\n",
        "data = pd.read_csv(url)\r\n",
        "fish_y = np.array(data[\"Species\"])\r\n",
        "\r\n",
        "fish_x = data.drop(\"Species\", axis = 1)\r\n",
        "\r\n",
        "# Create standardizer\r\n",
        "standardizer = StandardScaler()\r\n",
        "# Standardize features\r\n",
        "X_std = standardizer.fit_transform(fish_x)\r\n",
        "# Train a KNN classifier with 5 neighbors\r\n",
        "knn = KNeighborsClassifier(n_neighbors=5, n_jobs=-1).fit(X_std, fish_y)\r\n",
        "# Create two observations\r\n",
        "new_observations = [[ 0.75, 0.75, 0.75, 0.75, 0.75, 0.75],\r\n",
        "[ 1, 1, 1, 1, 1, 1]]\r\n",
        "# Predict the class of two observations\r\n",
        "knn.predict(new_observations)"
      ],
      "execution_count": null,
      "outputs": [
        {
          "output_type": "execute_result",
          "data": {
            "text/plain": [
              "array(['Perch', 'Perch'], dtype=object)"
            ]
          },
          "metadata": {
            "tags": []
          },
          "execution_count": 33
        }
      ]
    },
    {
      "cell_type": "code",
      "metadata": {
        "colab": {
          "base_uri": "https://localhost:8080/"
        },
        "id": "ZrlLw52obbkS",
        "outputId": "94b33210-cd62-434c-ac28-ed26bf78715d"
      },
      "source": [
        "# View probability each observation is one of three classes\r\n",
        "knn.predict_proba(new_observations)"
      ],
      "execution_count": null,
      "outputs": [
        {
          "output_type": "execute_result",
          "data": {
            "text/plain": [
              "array([[0.2, 0. , 0.6, 0. , 0. , 0. , 0.2],\n",
              "       [0. , 0. , 0.6, 0. , 0. , 0. , 0.4]])"
            ]
          },
          "metadata": {
            "tags": []
          },
          "execution_count": 34
        }
      ]
    },
    {
      "cell_type": "code",
      "metadata": {
        "id": "dVM1eemrbivO"
      },
      "source": [
        "# Load libraries\r\n",
        "from sklearn.neighbors import KNeighborsClassifier\r\n",
        "\r\n",
        "from sklearn.preprocessing import StandardScaler\r\n",
        "from sklearn.pipeline import Pipeline, FeatureUnion\r\n",
        "from sklearn.model_selection import GridSearchCV\r\n",
        "import pandas as pd\r\n",
        "import numpy as np \r\n",
        "# Load data\r\n",
        "url = 'https://raw.githubusercontent.com/VitaT/ML-python/main/data/fish.csv'\r\n",
        "data = pd.read_csv(url)\r\n",
        "fish_y = np.array(data[\"Species\"])\r\n",
        "fish_x = data.drop(\"Species\", axis = 1)\r\n",
        "# Create standardizer\r\n",
        "standardizer = StandardScaler()\r\n",
        "# Create a KNN classifier\r\n",
        "knn = KNeighborsClassifier(n_neighbors=5, n_jobs=-1)\r\n",
        "# Create a pipeline\r\n",
        "pipe = Pipeline([(\"standardizer\", standardizer), (\"knn\", knn)])\r\n",
        "# Create space of candidate values\r\n",
        "search_space = [{\"knn__n_neighbors\": [1, 2, 3, 4, 5, 6, 7, 8, 9, 10]}]\r\n",
        "# Create grid search\r\n",
        "classifier = GridSearchCV(\r\n",
        "pipe, search_space, cv=5, verbose=0).fit(fish_x, fish_y)"
      ],
      "execution_count": null,
      "outputs": []
    },
    {
      "cell_type": "code",
      "metadata": {
        "colab": {
          "base_uri": "https://localhost:8080/"
        },
        "id": "rH1W4hq1b9QZ",
        "outputId": "c909a968-3545-4e8e-c76d-4856c8eceac6"
      },
      "source": [
        "# Best neighborhood size (k)\r\n",
        "classifier.best_estimator_.get_params()[\"knn__n_neighbors\"]"
      ],
      "execution_count": null,
      "outputs": [
        {
          "output_type": "execute_result",
          "data": {
            "text/plain": [
              "2"
            ]
          },
          "metadata": {
            "tags": []
          },
          "execution_count": 36
        }
      ]
    }
  ]
}